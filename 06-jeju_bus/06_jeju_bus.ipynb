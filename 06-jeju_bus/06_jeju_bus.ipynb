{
  "nbformat": 4,
  "nbformat_minor": 0,
  "metadata": {
    "colab": {
      "name": "06-jeju_bus",
      "provenance": []
    },
    "kernelspec": {
      "name": "python3",
      "display_name": "Python 3"
    }
  },
  "cells": [
    {
      "cell_type": "code",
      "metadata": {
        "colab": {
          "base_uri": "https://localhost:8080/"
        },
        "id": "EF34aXMu09sT",
        "outputId": "97cbd9b5-3a74-4609-e471-e76843a114be"
      },
      "source": [
        "cd /content/drive/MyDrive/kaggle_study/06-bus"
      ],
      "execution_count": null,
      "outputs": [
        {
          "output_type": "stream",
          "text": [
            "/content/drive/MyDrive/kaggle_study/06-bus\n"
          ],
          "name": "stdout"
        }
      ]
    },
    {
      "cell_type": "code",
      "metadata": {
        "id": "eZ_SHBvv1QmA"
      },
      "source": [
        "import pandas as pd # Analysis\r\n",
        "import numpy as np # Analysis\r\n",
        "import seaborn as sns # Visualization\r\n",
        "import matplotlib.pyplot as plt # Visualization\r\n",
        "\r\n",
        "color = sns.color_palette()"
      ],
      "execution_count": null,
      "outputs": []
    },
    {
      "cell_type": "markdown",
      "metadata": {
        "id": "lX5E-2Bryu-I"
      },
      "source": [
        "# [1] Data Load"
      ]
    },
    {
      "cell_type": "code",
      "metadata": {
        "colab": {
          "base_uri": "https://localhost:8080/",
          "height": 609
        },
        "id": "aQoL8ioe1adU",
        "outputId": "7633a263-ba7e-4fef-ad4d-abee9eef6a67"
      },
      "source": [
        "train = pd.read_csv('train.csv', parse_dates=['date'])\r\n",
        "test = pd.read_csv('test.csv', parse_dates=['date'])\r\n",
        "train"
      ],
      "execution_count": null,
      "outputs": [
        {
          "output_type": "execute_result",
          "data": {
            "text/html": [
              "<div>\n",
              "<style scoped>\n",
              "    .dataframe tbody tr th:only-of-type {\n",
              "        vertical-align: middle;\n",
              "    }\n",
              "\n",
              "    .dataframe tbody tr th {\n",
              "        vertical-align: top;\n",
              "    }\n",
              "\n",
              "    .dataframe thead th {\n",
              "        text-align: right;\n",
              "    }\n",
              "</style>\n",
              "<table border=\"1\" class=\"dataframe\">\n",
              "  <thead>\n",
              "    <tr style=\"text-align: right;\">\n",
              "      <th></th>\n",
              "      <th>id</th>\n",
              "      <th>date</th>\n",
              "      <th>bus_route_id</th>\n",
              "      <th>in_out</th>\n",
              "      <th>station_code</th>\n",
              "      <th>station_name</th>\n",
              "      <th>latitude</th>\n",
              "      <th>longitude</th>\n",
              "      <th>6~7_ride</th>\n",
              "      <th>7~8_ride</th>\n",
              "      <th>8~9_ride</th>\n",
              "      <th>9~10_ride</th>\n",
              "      <th>10~11_ride</th>\n",
              "      <th>11~12_ride</th>\n",
              "      <th>6~7_takeoff</th>\n",
              "      <th>7~8_takeoff</th>\n",
              "      <th>8~9_takeoff</th>\n",
              "      <th>9~10_takeoff</th>\n",
              "      <th>10~11_takeoff</th>\n",
              "      <th>11~12_takeoff</th>\n",
              "      <th>18~20_ride</th>\n",
              "    </tr>\n",
              "  </thead>\n",
              "  <tbody>\n",
              "    <tr>\n",
              "      <th>0</th>\n",
              "      <td>0</td>\n",
              "      <td>2019-09-01</td>\n",
              "      <td>4270000</td>\n",
              "      <td>시외</td>\n",
              "      <td>344</td>\n",
              "      <td>제주썬호텔</td>\n",
              "      <td>33.48990</td>\n",
              "      <td>126.49373</td>\n",
              "      <td>0.0</td>\n",
              "      <td>1.0</td>\n",
              "      <td>2.0</td>\n",
              "      <td>5.0</td>\n",
              "      <td>2.0</td>\n",
              "      <td>6.0</td>\n",
              "      <td>0.0</td>\n",
              "      <td>0.0</td>\n",
              "      <td>0.0</td>\n",
              "      <td>0.0</td>\n",
              "      <td>0.0</td>\n",
              "      <td>0.0</td>\n",
              "      <td>0.0</td>\n",
              "    </tr>\n",
              "    <tr>\n",
              "      <th>1</th>\n",
              "      <td>1</td>\n",
              "      <td>2019-09-01</td>\n",
              "      <td>4270000</td>\n",
              "      <td>시외</td>\n",
              "      <td>357</td>\n",
              "      <td>한라병원</td>\n",
              "      <td>33.48944</td>\n",
              "      <td>126.48508</td>\n",
              "      <td>1.0</td>\n",
              "      <td>4.0</td>\n",
              "      <td>4.0</td>\n",
              "      <td>2.0</td>\n",
              "      <td>5.0</td>\n",
              "      <td>6.0</td>\n",
              "      <td>0.0</td>\n",
              "      <td>0.0</td>\n",
              "      <td>0.0</td>\n",
              "      <td>0.0</td>\n",
              "      <td>0.0</td>\n",
              "      <td>0.0</td>\n",
              "      <td>5.0</td>\n",
              "    </tr>\n",
              "    <tr>\n",
              "      <th>2</th>\n",
              "      <td>2</td>\n",
              "      <td>2019-09-01</td>\n",
              "      <td>4270000</td>\n",
              "      <td>시외</td>\n",
              "      <td>432</td>\n",
              "      <td>정존마을</td>\n",
              "      <td>33.48181</td>\n",
              "      <td>126.47352</td>\n",
              "      <td>1.0</td>\n",
              "      <td>1.0</td>\n",
              "      <td>0.0</td>\n",
              "      <td>2.0</td>\n",
              "      <td>0.0</td>\n",
              "      <td>0.0</td>\n",
              "      <td>0.0</td>\n",
              "      <td>0.0</td>\n",
              "      <td>0.0</td>\n",
              "      <td>0.0</td>\n",
              "      <td>0.0</td>\n",
              "      <td>0.0</td>\n",
              "      <td>2.0</td>\n",
              "    </tr>\n",
              "    <tr>\n",
              "      <th>3</th>\n",
              "      <td>3</td>\n",
              "      <td>2019-09-01</td>\n",
              "      <td>4270000</td>\n",
              "      <td>시내</td>\n",
              "      <td>1579</td>\n",
              "      <td>제주국제공항(600번)</td>\n",
              "      <td>33.50577</td>\n",
              "      <td>126.49252</td>\n",
              "      <td>0.0</td>\n",
              "      <td>17.0</td>\n",
              "      <td>6.0</td>\n",
              "      <td>26.0</td>\n",
              "      <td>14.0</td>\n",
              "      <td>16.0</td>\n",
              "      <td>0.0</td>\n",
              "      <td>0.0</td>\n",
              "      <td>0.0</td>\n",
              "      <td>0.0</td>\n",
              "      <td>0.0</td>\n",
              "      <td>0.0</td>\n",
              "      <td>53.0</td>\n",
              "    </tr>\n",
              "    <tr>\n",
              "      <th>4</th>\n",
              "      <td>4</td>\n",
              "      <td>2019-09-01</td>\n",
              "      <td>4270000</td>\n",
              "      <td>시내</td>\n",
              "      <td>1646</td>\n",
              "      <td>중문관광단지입구</td>\n",
              "      <td>33.25579</td>\n",
              "      <td>126.41260</td>\n",
              "      <td>0.0</td>\n",
              "      <td>0.0</td>\n",
              "      <td>0.0</td>\n",
              "      <td>0.0</td>\n",
              "      <td>0.0</td>\n",
              "      <td>0.0</td>\n",
              "      <td>0.0</td>\n",
              "      <td>0.0</td>\n",
              "      <td>0.0</td>\n",
              "      <td>1.0</td>\n",
              "      <td>0.0</td>\n",
              "      <td>0.0</td>\n",
              "      <td>0.0</td>\n",
              "    </tr>\n",
              "    <tr>\n",
              "      <th>...</th>\n",
              "      <td>...</td>\n",
              "      <td>...</td>\n",
              "      <td>...</td>\n",
              "      <td>...</td>\n",
              "      <td>...</td>\n",
              "      <td>...</td>\n",
              "      <td>...</td>\n",
              "      <td>...</td>\n",
              "      <td>...</td>\n",
              "      <td>...</td>\n",
              "      <td>...</td>\n",
              "      <td>...</td>\n",
              "      <td>...</td>\n",
              "      <td>...</td>\n",
              "      <td>...</td>\n",
              "      <td>...</td>\n",
              "      <td>...</td>\n",
              "      <td>...</td>\n",
              "      <td>...</td>\n",
              "      <td>...</td>\n",
              "      <td>...</td>\n",
              "    </tr>\n",
              "    <tr>\n",
              "      <th>415418</th>\n",
              "      <td>415418</td>\n",
              "      <td>2019-09-30</td>\n",
              "      <td>32820000</td>\n",
              "      <td>시내</td>\n",
              "      <td>1129</td>\n",
              "      <td>한림환승정류장(한림리)</td>\n",
              "      <td>33.41437</td>\n",
              "      <td>126.26336</td>\n",
              "      <td>4.0</td>\n",
              "      <td>0.0</td>\n",
              "      <td>0.0</td>\n",
              "      <td>0.0</td>\n",
              "      <td>0.0</td>\n",
              "      <td>0.0</td>\n",
              "      <td>0.0</td>\n",
              "      <td>0.0</td>\n",
              "      <td>0.0</td>\n",
              "      <td>0.0</td>\n",
              "      <td>0.0</td>\n",
              "      <td>0.0</td>\n",
              "      <td>0.0</td>\n",
              "    </tr>\n",
              "    <tr>\n",
              "      <th>415419</th>\n",
              "      <td>415419</td>\n",
              "      <td>2019-09-30</td>\n",
              "      <td>32820000</td>\n",
              "      <td>시내</td>\n",
              "      <td>1564</td>\n",
              "      <td>제주시외버스터미널</td>\n",
              "      <td>33.49946</td>\n",
              "      <td>126.51479</td>\n",
              "      <td>4.0</td>\n",
              "      <td>0.0</td>\n",
              "      <td>0.0</td>\n",
              "      <td>0.0</td>\n",
              "      <td>0.0</td>\n",
              "      <td>0.0</td>\n",
              "      <td>0.0</td>\n",
              "      <td>0.0</td>\n",
              "      <td>0.0</td>\n",
              "      <td>0.0</td>\n",
              "      <td>0.0</td>\n",
              "      <td>0.0</td>\n",
              "      <td>0.0</td>\n",
              "    </tr>\n",
              "    <tr>\n",
              "      <th>415420</th>\n",
              "      <td>415420</td>\n",
              "      <td>2019-09-30</td>\n",
              "      <td>32820000</td>\n",
              "      <td>시내</td>\n",
              "      <td>2322</td>\n",
              "      <td>해병부대</td>\n",
              "      <td>33.23100</td>\n",
              "      <td>126.26273</td>\n",
              "      <td>0.0</td>\n",
              "      <td>0.0</td>\n",
              "      <td>0.0</td>\n",
              "      <td>0.0</td>\n",
              "      <td>0.0</td>\n",
              "      <td>0.0</td>\n",
              "      <td>0.0</td>\n",
              "      <td>1.0</td>\n",
              "      <td>0.0</td>\n",
              "      <td>0.0</td>\n",
              "      <td>0.0</td>\n",
              "      <td>0.0</td>\n",
              "      <td>0.0</td>\n",
              "    </tr>\n",
              "    <tr>\n",
              "      <th>415421</th>\n",
              "      <td>415421</td>\n",
              "      <td>2019-09-30</td>\n",
              "      <td>32820000</td>\n",
              "      <td>시내</td>\n",
              "      <td>3291</td>\n",
              "      <td>애월환승정류장(애월리)</td>\n",
              "      <td>33.46483</td>\n",
              "      <td>126.31870</td>\n",
              "      <td>1.0</td>\n",
              "      <td>0.0</td>\n",
              "      <td>0.0</td>\n",
              "      <td>0.0</td>\n",
              "      <td>0.0</td>\n",
              "      <td>0.0</td>\n",
              "      <td>0.0</td>\n",
              "      <td>0.0</td>\n",
              "      <td>0.0</td>\n",
              "      <td>0.0</td>\n",
              "      <td>0.0</td>\n",
              "      <td>0.0</td>\n",
              "      <td>0.0</td>\n",
              "    </tr>\n",
              "    <tr>\n",
              "      <th>415422</th>\n",
              "      <td>415422</td>\n",
              "      <td>2019-09-30</td>\n",
              "      <td>32820000</td>\n",
              "      <td>시내</td>\n",
              "      <td>6115100</td>\n",
              "      <td>서귀포시외버스터미널</td>\n",
              "      <td>33.24873</td>\n",
              "      <td>126.50799</td>\n",
              "      <td>0.0</td>\n",
              "      <td>0.0</td>\n",
              "      <td>0.0</td>\n",
              "      <td>0.0</td>\n",
              "      <td>0.0</td>\n",
              "      <td>0.0</td>\n",
              "      <td>0.0</td>\n",
              "      <td>0.0</td>\n",
              "      <td>4.0</td>\n",
              "      <td>0.0</td>\n",
              "      <td>0.0</td>\n",
              "      <td>0.0</td>\n",
              "      <td>0.0</td>\n",
              "    </tr>\n",
              "  </tbody>\n",
              "</table>\n",
              "<p>415423 rows × 21 columns</p>\n",
              "</div>"
            ],
            "text/plain": [
              "            id       date  ...  11~12_takeoff 18~20_ride\n",
              "0            0 2019-09-01  ...            0.0        0.0\n",
              "1            1 2019-09-01  ...            0.0        5.0\n",
              "2            2 2019-09-01  ...            0.0        2.0\n",
              "3            3 2019-09-01  ...            0.0       53.0\n",
              "4            4 2019-09-01  ...            0.0        0.0\n",
              "...        ...        ...  ...            ...        ...\n",
              "415418  415418 2019-09-30  ...            0.0        0.0\n",
              "415419  415419 2019-09-30  ...            0.0        0.0\n",
              "415420  415420 2019-09-30  ...            0.0        0.0\n",
              "415421  415421 2019-09-30  ...            0.0        0.0\n",
              "415422  415422 2019-09-30  ...            0.0        0.0\n",
              "\n",
              "[415423 rows x 21 columns]"
            ]
          },
          "metadata": {
            "tags": []
          },
          "execution_count": 3
        }
      ]
    },
    {
      "cell_type": "code",
      "metadata": {
        "colab": {
          "base_uri": "https://localhost:8080/"
        },
        "id": "SQDbInTngjZz",
        "outputId": "08682618-4be6-45f1-8b00-cb54e4c4b27d"
      },
      "source": [
        "train.info()"
      ],
      "execution_count": null,
      "outputs": [
        {
          "output_type": "stream",
          "text": [
            "<class 'pandas.core.frame.DataFrame'>\n",
            "RangeIndex: 415423 entries, 0 to 415422\n",
            "Data columns (total 21 columns):\n",
            " #   Column         Non-Null Count   Dtype         \n",
            "---  ------         --------------   -----         \n",
            " 0   id             415423 non-null  int64         \n",
            " 1   date           415423 non-null  datetime64[ns]\n",
            " 2   bus_route_id   415423 non-null  int64         \n",
            " 3   in_out         415423 non-null  object        \n",
            " 4   station_code   415423 non-null  int64         \n",
            " 5   station_name   415423 non-null  object        \n",
            " 6   latitude       415423 non-null  float64       \n",
            " 7   longitude      415423 non-null  float64       \n",
            " 8   6~7_ride       415423 non-null  float64       \n",
            " 9   7~8_ride       415423 non-null  float64       \n",
            " 10  8~9_ride       415423 non-null  float64       \n",
            " 11  9~10_ride      415423 non-null  float64       \n",
            " 12  10~11_ride     415423 non-null  float64       \n",
            " 13  11~12_ride     415423 non-null  float64       \n",
            " 14  6~7_takeoff    415423 non-null  float64       \n",
            " 15  7~8_takeoff    415423 non-null  float64       \n",
            " 16  8~9_takeoff    415423 non-null  float64       \n",
            " 17  9~10_takeoff   415423 non-null  float64       \n",
            " 18  10~11_takeoff  415423 non-null  float64       \n",
            " 19  11~12_takeoff  415423 non-null  float64       \n",
            " 20  18~20_ride     415423 non-null  float64       \n",
            "dtypes: datetime64[ns](1), float64(15), int64(3), object(2)\n",
            "memory usage: 66.6+ MB\n"
          ],
          "name": "stdout"
        }
      ]
    },
    {
      "cell_type": "markdown",
      "metadata": {
        "id": "0jcmj1K8y8uV"
      },
      "source": [
        "## Unique Value 확인"
      ]
    },
    {
      "cell_type": "code",
      "metadata": {
        "colab": {
          "base_uri": "https://localhost:8080/",
          "height": 700
        },
        "id": "pXyIzUNW4SlU",
        "outputId": "258a2636-d765-4cca-d2cb-8f1e27fbd9b4"
      },
      "source": [
        "train_unique = []\r\n",
        "for i in train.columns.values:\r\n",
        "    train_unique.append(len(train[i].unique()))\r\n",
        "unique_train = pd.DataFrame()\r\n",
        "unique_train['Columns'] = list(train.columns)\r\n",
        "unique_train['Unique_value'] = train_unique\r\n",
        "unique_train"
      ],
      "execution_count": 5,
      "outputs": [
        {
          "output_type": "execute_result",
          "data": {
            "text/html": [
              "<div>\n",
              "<style scoped>\n",
              "    .dataframe tbody tr th:only-of-type {\n",
              "        vertical-align: middle;\n",
              "    }\n",
              "\n",
              "    .dataframe tbody tr th {\n",
              "        vertical-align: top;\n",
              "    }\n",
              "\n",
              "    .dataframe thead th {\n",
              "        text-align: right;\n",
              "    }\n",
              "</style>\n",
              "<table border=\"1\" class=\"dataframe\">\n",
              "  <thead>\n",
              "    <tr style=\"text-align: right;\">\n",
              "      <th></th>\n",
              "      <th>Columns</th>\n",
              "      <th>Unique_value</th>\n",
              "    </tr>\n",
              "  </thead>\n",
              "  <tbody>\n",
              "    <tr>\n",
              "      <th>0</th>\n",
              "      <td>id</td>\n",
              "      <td>415423</td>\n",
              "    </tr>\n",
              "    <tr>\n",
              "      <th>1</th>\n",
              "      <td>date</td>\n",
              "      <td>30</td>\n",
              "    </tr>\n",
              "    <tr>\n",
              "      <th>2</th>\n",
              "      <td>bus_route_id</td>\n",
              "      <td>613</td>\n",
              "    </tr>\n",
              "    <tr>\n",
              "      <th>3</th>\n",
              "      <td>in_out</td>\n",
              "      <td>2</td>\n",
              "    </tr>\n",
              "    <tr>\n",
              "      <th>4</th>\n",
              "      <td>station_code</td>\n",
              "      <td>3563</td>\n",
              "    </tr>\n",
              "    <tr>\n",
              "      <th>5</th>\n",
              "      <td>station_name</td>\n",
              "      <td>1961</td>\n",
              "    </tr>\n",
              "    <tr>\n",
              "      <th>6</th>\n",
              "      <td>latitude</td>\n",
              "      <td>3278</td>\n",
              "    </tr>\n",
              "    <tr>\n",
              "      <th>7</th>\n",
              "      <td>longitude</td>\n",
              "      <td>3446</td>\n",
              "    </tr>\n",
              "    <tr>\n",
              "      <th>8</th>\n",
              "      <td>6~7_ride</td>\n",
              "      <td>47</td>\n",
              "    </tr>\n",
              "    <tr>\n",
              "      <th>9</th>\n",
              "      <td>7~8_ride</td>\n",
              "      <td>80</td>\n",
              "    </tr>\n",
              "    <tr>\n",
              "      <th>10</th>\n",
              "      <td>8~9_ride</td>\n",
              "      <td>78</td>\n",
              "    </tr>\n",
              "    <tr>\n",
              "      <th>11</th>\n",
              "      <td>9~10_ride</td>\n",
              "      <td>66</td>\n",
              "    </tr>\n",
              "    <tr>\n",
              "      <th>12</th>\n",
              "      <td>10~11_ride</td>\n",
              "      <td>66</td>\n",
              "    </tr>\n",
              "    <tr>\n",
              "      <th>13</th>\n",
              "      <td>11~12_ride</td>\n",
              "      <td>69</td>\n",
              "    </tr>\n",
              "    <tr>\n",
              "      <th>14</th>\n",
              "      <td>6~7_takeoff</td>\n",
              "      <td>35</td>\n",
              "    </tr>\n",
              "    <tr>\n",
              "      <th>15</th>\n",
              "      <td>7~8_takeoff</td>\n",
              "      <td>51</td>\n",
              "    </tr>\n",
              "    <tr>\n",
              "      <th>16</th>\n",
              "      <td>8~9_takeoff</td>\n",
              "      <td>53</td>\n",
              "    </tr>\n",
              "    <tr>\n",
              "      <th>17</th>\n",
              "      <td>9~10_takeoff</td>\n",
              "      <td>46</td>\n",
              "    </tr>\n",
              "    <tr>\n",
              "      <th>18</th>\n",
              "      <td>10~11_takeoff</td>\n",
              "      <td>47</td>\n",
              "    </tr>\n",
              "    <tr>\n",
              "      <th>19</th>\n",
              "      <td>11~12_takeoff</td>\n",
              "      <td>55</td>\n",
              "    </tr>\n",
              "    <tr>\n",
              "      <th>20</th>\n",
              "      <td>18~20_ride</td>\n",
              "      <td>170</td>\n",
              "    </tr>\n",
              "  </tbody>\n",
              "</table>\n",
              "</div>"
            ],
            "text/plain": [
              "          Columns  Unique_value\n",
              "0              id        415423\n",
              "1            date            30\n",
              "2    bus_route_id           613\n",
              "3          in_out             2\n",
              "4    station_code          3563\n",
              "5    station_name          1961\n",
              "6        latitude          3278\n",
              "7       longitude          3446\n",
              "8        6~7_ride            47\n",
              "9        7~8_ride            80\n",
              "10       8~9_ride            78\n",
              "11      9~10_ride            66\n",
              "12     10~11_ride            66\n",
              "13     11~12_ride            69\n",
              "14    6~7_takeoff            35\n",
              "15    7~8_takeoff            51\n",
              "16    8~9_takeoff            53\n",
              "17   9~10_takeoff            46\n",
              "18  10~11_takeoff            47\n",
              "19  11~12_takeoff            55\n",
              "20     18~20_ride           170"
            ]
          },
          "metadata": {
            "tags": []
          },
          "execution_count": 5
        }
      ]
    },
    {
      "cell_type": "markdown",
      "metadata": {
        "id": "4Gjot-jYy0l6"
      },
      "source": [
        "# [2] Data Processing\r\n",
        "신용카드 거래 데이터 분석 코드 [참고](04-credit_card-visualization/04_credit_card_visualization_1stCode.ipynb)\r\n",
        "\r\n",
        "거래 데이터 발생과 비슷하게 퇴근 시간의 인원도 평일에 더 많이 발생하는 경향이므로 위 코드를 많이 참고함"
      ]
    },
    {
      "cell_type": "markdown",
      "metadata": {
        "id": "Ia6HjOe302hI"
      },
      "source": [
        "## 평일/주말/휴일 열 추가"
      ]
    },
    {
      "cell_type": "code",
      "metadata": {
        "id": "hH7h0qOB2YCy"
      },
      "source": [
        "# date를 통해 주말 / 주일 분류 -> weekday(1) / weekday(0)\r\n",
        "train['weekday'] = train['date'].dt.weekday.apply(lambda x: 1 if x > 4 else 0)\r\n",
        "test['weekday'] = test['date'].dt.weekday.apply(lambda x: 1 if x > 4 else 0)\r\n",
        "\r\n",
        "# 공휴일 정보 - weekday(2)\r\n",
        "train_holiday_list = [12, 13, 14]\r\n",
        "train['holiday'] = train['date'].dt.day.apply(lambda x: 1 if x in train_holiday_list else 0)\r\n",
        "train['weekday'] = (train['weekday'] + train['holiday']).apply(lambda x: 2 if x >= 3 else x)\r\n",
        "\r\n",
        "test_holiday_list = [3, 9]\r\n",
        "test['holiday'] = test['date'].dt.day.apply(lambda x: 2 if x in test_holiday_list else 0)\r\n",
        "test['weekday'] = (test['weekday'] + train['holiday']).apply(lambda x: 2 if x >= 3 else x)"
      ],
      "execution_count": 6,
      "outputs": []
    },
    {
      "cell_type": "markdown",
      "metadata": {
        "id": "qrstcnp41JBF"
      },
      "source": [
        "## 시내·시외버스 라벨링"
      ]
    },
    {
      "cell_type": "code",
      "metadata": {
        "id": "V8PgGES1gW4E"
      },
      "source": [
        "# 시내(0) / 시외(1)\r\n",
        "train['in_out'] = train['in_out'].map({'시내': 0, '시외': 1})\r\n",
        "test['in_out'] = test['in_out'].map({'시내': 0, '시외': 1})"
      ],
      "execution_count": 7,
      "outputs": []
    },
    {
      "cell_type": "code",
      "metadata": {
        "colab": {
          "base_uri": "https://localhost:8080/",
          "height": 609
        },
        "id": "yLRleANHwrDW",
        "outputId": "fcae168a-f12f-44ab-ed2b-6625274990e5"
      },
      "source": [
        "train"
      ],
      "execution_count": 8,
      "outputs": [
        {
          "output_type": "execute_result",
          "data": {
            "text/html": [
              "<div>\n",
              "<style scoped>\n",
              "    .dataframe tbody tr th:only-of-type {\n",
              "        vertical-align: middle;\n",
              "    }\n",
              "\n",
              "    .dataframe tbody tr th {\n",
              "        vertical-align: top;\n",
              "    }\n",
              "\n",
              "    .dataframe thead th {\n",
              "        text-align: right;\n",
              "    }\n",
              "</style>\n",
              "<table border=\"1\" class=\"dataframe\">\n",
              "  <thead>\n",
              "    <tr style=\"text-align: right;\">\n",
              "      <th></th>\n",
              "      <th>id</th>\n",
              "      <th>date</th>\n",
              "      <th>bus_route_id</th>\n",
              "      <th>in_out</th>\n",
              "      <th>station_code</th>\n",
              "      <th>station_name</th>\n",
              "      <th>latitude</th>\n",
              "      <th>longitude</th>\n",
              "      <th>6~7_ride</th>\n",
              "      <th>7~8_ride</th>\n",
              "      <th>8~9_ride</th>\n",
              "      <th>9~10_ride</th>\n",
              "      <th>10~11_ride</th>\n",
              "      <th>11~12_ride</th>\n",
              "      <th>6~7_takeoff</th>\n",
              "      <th>7~8_takeoff</th>\n",
              "      <th>8~9_takeoff</th>\n",
              "      <th>9~10_takeoff</th>\n",
              "      <th>10~11_takeoff</th>\n",
              "      <th>11~12_takeoff</th>\n",
              "      <th>18~20_ride</th>\n",
              "      <th>weekday</th>\n",
              "      <th>holiday</th>\n",
              "    </tr>\n",
              "  </thead>\n",
              "  <tbody>\n",
              "    <tr>\n",
              "      <th>0</th>\n",
              "      <td>0</td>\n",
              "      <td>2019-09-01</td>\n",
              "      <td>4270000</td>\n",
              "      <td>1</td>\n",
              "      <td>344</td>\n",
              "      <td>제주썬호텔</td>\n",
              "      <td>33.48990</td>\n",
              "      <td>126.49373</td>\n",
              "      <td>0.0</td>\n",
              "      <td>1.0</td>\n",
              "      <td>2.0</td>\n",
              "      <td>5.0</td>\n",
              "      <td>2.0</td>\n",
              "      <td>6.0</td>\n",
              "      <td>0.0</td>\n",
              "      <td>0.0</td>\n",
              "      <td>0.0</td>\n",
              "      <td>0.0</td>\n",
              "      <td>0.0</td>\n",
              "      <td>0.0</td>\n",
              "      <td>0.0</td>\n",
              "      <td>1</td>\n",
              "      <td>0</td>\n",
              "    </tr>\n",
              "    <tr>\n",
              "      <th>1</th>\n",
              "      <td>1</td>\n",
              "      <td>2019-09-01</td>\n",
              "      <td>4270000</td>\n",
              "      <td>1</td>\n",
              "      <td>357</td>\n",
              "      <td>한라병원</td>\n",
              "      <td>33.48944</td>\n",
              "      <td>126.48508</td>\n",
              "      <td>1.0</td>\n",
              "      <td>4.0</td>\n",
              "      <td>4.0</td>\n",
              "      <td>2.0</td>\n",
              "      <td>5.0</td>\n",
              "      <td>6.0</td>\n",
              "      <td>0.0</td>\n",
              "      <td>0.0</td>\n",
              "      <td>0.0</td>\n",
              "      <td>0.0</td>\n",
              "      <td>0.0</td>\n",
              "      <td>0.0</td>\n",
              "      <td>5.0</td>\n",
              "      <td>1</td>\n",
              "      <td>0</td>\n",
              "    </tr>\n",
              "    <tr>\n",
              "      <th>2</th>\n",
              "      <td>2</td>\n",
              "      <td>2019-09-01</td>\n",
              "      <td>4270000</td>\n",
              "      <td>1</td>\n",
              "      <td>432</td>\n",
              "      <td>정존마을</td>\n",
              "      <td>33.48181</td>\n",
              "      <td>126.47352</td>\n",
              "      <td>1.0</td>\n",
              "      <td>1.0</td>\n",
              "      <td>0.0</td>\n",
              "      <td>2.0</td>\n",
              "      <td>0.0</td>\n",
              "      <td>0.0</td>\n",
              "      <td>0.0</td>\n",
              "      <td>0.0</td>\n",
              "      <td>0.0</td>\n",
              "      <td>0.0</td>\n",
              "      <td>0.0</td>\n",
              "      <td>0.0</td>\n",
              "      <td>2.0</td>\n",
              "      <td>1</td>\n",
              "      <td>0</td>\n",
              "    </tr>\n",
              "    <tr>\n",
              "      <th>3</th>\n",
              "      <td>3</td>\n",
              "      <td>2019-09-01</td>\n",
              "      <td>4270000</td>\n",
              "      <td>0</td>\n",
              "      <td>1579</td>\n",
              "      <td>제주국제공항(600번)</td>\n",
              "      <td>33.50577</td>\n",
              "      <td>126.49252</td>\n",
              "      <td>0.0</td>\n",
              "      <td>17.0</td>\n",
              "      <td>6.0</td>\n",
              "      <td>26.0</td>\n",
              "      <td>14.0</td>\n",
              "      <td>16.0</td>\n",
              "      <td>0.0</td>\n",
              "      <td>0.0</td>\n",
              "      <td>0.0</td>\n",
              "      <td>0.0</td>\n",
              "      <td>0.0</td>\n",
              "      <td>0.0</td>\n",
              "      <td>53.0</td>\n",
              "      <td>1</td>\n",
              "      <td>0</td>\n",
              "    </tr>\n",
              "    <tr>\n",
              "      <th>4</th>\n",
              "      <td>4</td>\n",
              "      <td>2019-09-01</td>\n",
              "      <td>4270000</td>\n",
              "      <td>0</td>\n",
              "      <td>1646</td>\n",
              "      <td>중문관광단지입구</td>\n",
              "      <td>33.25579</td>\n",
              "      <td>126.41260</td>\n",
              "      <td>0.0</td>\n",
              "      <td>0.0</td>\n",
              "      <td>0.0</td>\n",
              "      <td>0.0</td>\n",
              "      <td>0.0</td>\n",
              "      <td>0.0</td>\n",
              "      <td>0.0</td>\n",
              "      <td>0.0</td>\n",
              "      <td>0.0</td>\n",
              "      <td>1.0</td>\n",
              "      <td>0.0</td>\n",
              "      <td>0.0</td>\n",
              "      <td>0.0</td>\n",
              "      <td>1</td>\n",
              "      <td>0</td>\n",
              "    </tr>\n",
              "    <tr>\n",
              "      <th>...</th>\n",
              "      <td>...</td>\n",
              "      <td>...</td>\n",
              "      <td>...</td>\n",
              "      <td>...</td>\n",
              "      <td>...</td>\n",
              "      <td>...</td>\n",
              "      <td>...</td>\n",
              "      <td>...</td>\n",
              "      <td>...</td>\n",
              "      <td>...</td>\n",
              "      <td>...</td>\n",
              "      <td>...</td>\n",
              "      <td>...</td>\n",
              "      <td>...</td>\n",
              "      <td>...</td>\n",
              "      <td>...</td>\n",
              "      <td>...</td>\n",
              "      <td>...</td>\n",
              "      <td>...</td>\n",
              "      <td>...</td>\n",
              "      <td>...</td>\n",
              "      <td>...</td>\n",
              "      <td>...</td>\n",
              "    </tr>\n",
              "    <tr>\n",
              "      <th>415418</th>\n",
              "      <td>415418</td>\n",
              "      <td>2019-09-30</td>\n",
              "      <td>32820000</td>\n",
              "      <td>0</td>\n",
              "      <td>1129</td>\n",
              "      <td>한림환승정류장(한림리)</td>\n",
              "      <td>33.41437</td>\n",
              "      <td>126.26336</td>\n",
              "      <td>4.0</td>\n",
              "      <td>0.0</td>\n",
              "      <td>0.0</td>\n",
              "      <td>0.0</td>\n",
              "      <td>0.0</td>\n",
              "      <td>0.0</td>\n",
              "      <td>0.0</td>\n",
              "      <td>0.0</td>\n",
              "      <td>0.0</td>\n",
              "      <td>0.0</td>\n",
              "      <td>0.0</td>\n",
              "      <td>0.0</td>\n",
              "      <td>0.0</td>\n",
              "      <td>0</td>\n",
              "      <td>0</td>\n",
              "    </tr>\n",
              "    <tr>\n",
              "      <th>415419</th>\n",
              "      <td>415419</td>\n",
              "      <td>2019-09-30</td>\n",
              "      <td>32820000</td>\n",
              "      <td>0</td>\n",
              "      <td>1564</td>\n",
              "      <td>제주시외버스터미널</td>\n",
              "      <td>33.49946</td>\n",
              "      <td>126.51479</td>\n",
              "      <td>4.0</td>\n",
              "      <td>0.0</td>\n",
              "      <td>0.0</td>\n",
              "      <td>0.0</td>\n",
              "      <td>0.0</td>\n",
              "      <td>0.0</td>\n",
              "      <td>0.0</td>\n",
              "      <td>0.0</td>\n",
              "      <td>0.0</td>\n",
              "      <td>0.0</td>\n",
              "      <td>0.0</td>\n",
              "      <td>0.0</td>\n",
              "      <td>0.0</td>\n",
              "      <td>0</td>\n",
              "      <td>0</td>\n",
              "    </tr>\n",
              "    <tr>\n",
              "      <th>415420</th>\n",
              "      <td>415420</td>\n",
              "      <td>2019-09-30</td>\n",
              "      <td>32820000</td>\n",
              "      <td>0</td>\n",
              "      <td>2322</td>\n",
              "      <td>해병부대</td>\n",
              "      <td>33.23100</td>\n",
              "      <td>126.26273</td>\n",
              "      <td>0.0</td>\n",
              "      <td>0.0</td>\n",
              "      <td>0.0</td>\n",
              "      <td>0.0</td>\n",
              "      <td>0.0</td>\n",
              "      <td>0.0</td>\n",
              "      <td>0.0</td>\n",
              "      <td>1.0</td>\n",
              "      <td>0.0</td>\n",
              "      <td>0.0</td>\n",
              "      <td>0.0</td>\n",
              "      <td>0.0</td>\n",
              "      <td>0.0</td>\n",
              "      <td>0</td>\n",
              "      <td>0</td>\n",
              "    </tr>\n",
              "    <tr>\n",
              "      <th>415421</th>\n",
              "      <td>415421</td>\n",
              "      <td>2019-09-30</td>\n",
              "      <td>32820000</td>\n",
              "      <td>0</td>\n",
              "      <td>3291</td>\n",
              "      <td>애월환승정류장(애월리)</td>\n",
              "      <td>33.46483</td>\n",
              "      <td>126.31870</td>\n",
              "      <td>1.0</td>\n",
              "      <td>0.0</td>\n",
              "      <td>0.0</td>\n",
              "      <td>0.0</td>\n",
              "      <td>0.0</td>\n",
              "      <td>0.0</td>\n",
              "      <td>0.0</td>\n",
              "      <td>0.0</td>\n",
              "      <td>0.0</td>\n",
              "      <td>0.0</td>\n",
              "      <td>0.0</td>\n",
              "      <td>0.0</td>\n",
              "      <td>0.0</td>\n",
              "      <td>0</td>\n",
              "      <td>0</td>\n",
              "    </tr>\n",
              "    <tr>\n",
              "      <th>415422</th>\n",
              "      <td>415422</td>\n",
              "      <td>2019-09-30</td>\n",
              "      <td>32820000</td>\n",
              "      <td>0</td>\n",
              "      <td>6115100</td>\n",
              "      <td>서귀포시외버스터미널</td>\n",
              "      <td>33.24873</td>\n",
              "      <td>126.50799</td>\n",
              "      <td>0.0</td>\n",
              "      <td>0.0</td>\n",
              "      <td>0.0</td>\n",
              "      <td>0.0</td>\n",
              "      <td>0.0</td>\n",
              "      <td>0.0</td>\n",
              "      <td>0.0</td>\n",
              "      <td>0.0</td>\n",
              "      <td>4.0</td>\n",
              "      <td>0.0</td>\n",
              "      <td>0.0</td>\n",
              "      <td>0.0</td>\n",
              "      <td>0.0</td>\n",
              "      <td>0</td>\n",
              "      <td>0</td>\n",
              "    </tr>\n",
              "  </tbody>\n",
              "</table>\n",
              "<p>415423 rows × 23 columns</p>\n",
              "</div>"
            ],
            "text/plain": [
              "            id       date  bus_route_id  ...  18~20_ride  weekday holiday\n",
              "0            0 2019-09-01       4270000  ...         0.0        1       0\n",
              "1            1 2019-09-01       4270000  ...         5.0        1       0\n",
              "2            2 2019-09-01       4270000  ...         2.0        1       0\n",
              "3            3 2019-09-01       4270000  ...        53.0        1       0\n",
              "4            4 2019-09-01       4270000  ...         0.0        1       0\n",
              "...        ...        ...           ...  ...         ...      ...     ...\n",
              "415418  415418 2019-09-30      32820000  ...         0.0        0       0\n",
              "415419  415419 2019-09-30      32820000  ...         0.0        0       0\n",
              "415420  415420 2019-09-30      32820000  ...         0.0        0       0\n",
              "415421  415421 2019-09-30      32820000  ...         0.0        0       0\n",
              "415422  415422 2019-09-30      32820000  ...         0.0        0       0\n",
              "\n",
              "[415423 rows x 23 columns]"
            ]
          },
          "metadata": {
            "tags": []
          },
          "execution_count": 8
        }
      ]
    },
    {
      "cell_type": "markdown",
      "metadata": {
        "id": "jCuS8Xe_0pMb"
      },
      "source": [
        "## feature 제거\r\n",
        "정류장 이름, 경도 및 위도는 정류장 고유 번호로 대체 가능하므로 제거"
      ]
    },
    {
      "cell_type": "code",
      "metadata": {
        "id": "IKePtZx_vvua"
      },
      "source": [
        "drop_cols=['id','date','station_name','station_name','latitude','longitude', 'holiday']\r\n",
        "train=train.drop(drop_cols,axis=1)\r\n",
        "test=test.drop(drop_cols,axis=1)"
      ],
      "execution_count": 10,
      "outputs": []
    },
    {
      "cell_type": "code",
      "metadata": {
        "colab": {
          "base_uri": "https://localhost:8080/",
          "height": 439
        },
        "id": "acBaMZaCx21O",
        "outputId": "ea8d39a1-444a-44ce-ac26-389fe2647170"
      },
      "source": [
        "# weekday 열을 4번째 열로 순서 변경\r\n",
        "train = train[list(train.columns[0:3])+['weekday']+list(train.columns[3:-1])]\r\n",
        "test = test[list(test.columns[0:3])+['weekday']+list(test.columns[3:-1])]\r\n",
        "train"
      ],
      "execution_count": 11,
      "outputs": [
        {
          "output_type": "execute_result",
          "data": {
            "text/html": [
              "<div>\n",
              "<style scoped>\n",
              "    .dataframe tbody tr th:only-of-type {\n",
              "        vertical-align: middle;\n",
              "    }\n",
              "\n",
              "    .dataframe tbody tr th {\n",
              "        vertical-align: top;\n",
              "    }\n",
              "\n",
              "    .dataframe thead th {\n",
              "        text-align: right;\n",
              "    }\n",
              "</style>\n",
              "<table border=\"1\" class=\"dataframe\">\n",
              "  <thead>\n",
              "    <tr style=\"text-align: right;\">\n",
              "      <th></th>\n",
              "      <th>bus_route_id</th>\n",
              "      <th>in_out</th>\n",
              "      <th>station_code</th>\n",
              "      <th>weekday</th>\n",
              "      <th>6~7_ride</th>\n",
              "      <th>7~8_ride</th>\n",
              "      <th>8~9_ride</th>\n",
              "      <th>9~10_ride</th>\n",
              "      <th>10~11_ride</th>\n",
              "      <th>11~12_ride</th>\n",
              "      <th>6~7_takeoff</th>\n",
              "      <th>7~8_takeoff</th>\n",
              "      <th>8~9_takeoff</th>\n",
              "      <th>9~10_takeoff</th>\n",
              "      <th>10~11_takeoff</th>\n",
              "      <th>11~12_takeoff</th>\n",
              "      <th>18~20_ride</th>\n",
              "    </tr>\n",
              "  </thead>\n",
              "  <tbody>\n",
              "    <tr>\n",
              "      <th>0</th>\n",
              "      <td>4270000</td>\n",
              "      <td>1</td>\n",
              "      <td>344</td>\n",
              "      <td>1</td>\n",
              "      <td>0.0</td>\n",
              "      <td>1.0</td>\n",
              "      <td>2.0</td>\n",
              "      <td>5.0</td>\n",
              "      <td>2.0</td>\n",
              "      <td>6.0</td>\n",
              "      <td>0.0</td>\n",
              "      <td>0.0</td>\n",
              "      <td>0.0</td>\n",
              "      <td>0.0</td>\n",
              "      <td>0.0</td>\n",
              "      <td>0.0</td>\n",
              "      <td>0.0</td>\n",
              "    </tr>\n",
              "    <tr>\n",
              "      <th>1</th>\n",
              "      <td>4270000</td>\n",
              "      <td>1</td>\n",
              "      <td>357</td>\n",
              "      <td>1</td>\n",
              "      <td>1.0</td>\n",
              "      <td>4.0</td>\n",
              "      <td>4.0</td>\n",
              "      <td>2.0</td>\n",
              "      <td>5.0</td>\n",
              "      <td>6.0</td>\n",
              "      <td>0.0</td>\n",
              "      <td>0.0</td>\n",
              "      <td>0.0</td>\n",
              "      <td>0.0</td>\n",
              "      <td>0.0</td>\n",
              "      <td>0.0</td>\n",
              "      <td>5.0</td>\n",
              "    </tr>\n",
              "    <tr>\n",
              "      <th>2</th>\n",
              "      <td>4270000</td>\n",
              "      <td>1</td>\n",
              "      <td>432</td>\n",
              "      <td>1</td>\n",
              "      <td>1.0</td>\n",
              "      <td>1.0</td>\n",
              "      <td>0.0</td>\n",
              "      <td>2.0</td>\n",
              "      <td>0.0</td>\n",
              "      <td>0.0</td>\n",
              "      <td>0.0</td>\n",
              "      <td>0.0</td>\n",
              "      <td>0.0</td>\n",
              "      <td>0.0</td>\n",
              "      <td>0.0</td>\n",
              "      <td>0.0</td>\n",
              "      <td>2.0</td>\n",
              "    </tr>\n",
              "    <tr>\n",
              "      <th>3</th>\n",
              "      <td>4270000</td>\n",
              "      <td>0</td>\n",
              "      <td>1579</td>\n",
              "      <td>1</td>\n",
              "      <td>0.0</td>\n",
              "      <td>17.0</td>\n",
              "      <td>6.0</td>\n",
              "      <td>26.0</td>\n",
              "      <td>14.0</td>\n",
              "      <td>16.0</td>\n",
              "      <td>0.0</td>\n",
              "      <td>0.0</td>\n",
              "      <td>0.0</td>\n",
              "      <td>0.0</td>\n",
              "      <td>0.0</td>\n",
              "      <td>0.0</td>\n",
              "      <td>53.0</td>\n",
              "    </tr>\n",
              "    <tr>\n",
              "      <th>4</th>\n",
              "      <td>4270000</td>\n",
              "      <td>0</td>\n",
              "      <td>1646</td>\n",
              "      <td>1</td>\n",
              "      <td>0.0</td>\n",
              "      <td>0.0</td>\n",
              "      <td>0.0</td>\n",
              "      <td>0.0</td>\n",
              "      <td>0.0</td>\n",
              "      <td>0.0</td>\n",
              "      <td>0.0</td>\n",
              "      <td>0.0</td>\n",
              "      <td>0.0</td>\n",
              "      <td>1.0</td>\n",
              "      <td>0.0</td>\n",
              "      <td>0.0</td>\n",
              "      <td>0.0</td>\n",
              "    </tr>\n",
              "    <tr>\n",
              "      <th>...</th>\n",
              "      <td>...</td>\n",
              "      <td>...</td>\n",
              "      <td>...</td>\n",
              "      <td>...</td>\n",
              "      <td>...</td>\n",
              "      <td>...</td>\n",
              "      <td>...</td>\n",
              "      <td>...</td>\n",
              "      <td>...</td>\n",
              "      <td>...</td>\n",
              "      <td>...</td>\n",
              "      <td>...</td>\n",
              "      <td>...</td>\n",
              "      <td>...</td>\n",
              "      <td>...</td>\n",
              "      <td>...</td>\n",
              "      <td>...</td>\n",
              "    </tr>\n",
              "    <tr>\n",
              "      <th>415418</th>\n",
              "      <td>32820000</td>\n",
              "      <td>0</td>\n",
              "      <td>1129</td>\n",
              "      <td>0</td>\n",
              "      <td>4.0</td>\n",
              "      <td>0.0</td>\n",
              "      <td>0.0</td>\n",
              "      <td>0.0</td>\n",
              "      <td>0.0</td>\n",
              "      <td>0.0</td>\n",
              "      <td>0.0</td>\n",
              "      <td>0.0</td>\n",
              "      <td>0.0</td>\n",
              "      <td>0.0</td>\n",
              "      <td>0.0</td>\n",
              "      <td>0.0</td>\n",
              "      <td>0.0</td>\n",
              "    </tr>\n",
              "    <tr>\n",
              "      <th>415419</th>\n",
              "      <td>32820000</td>\n",
              "      <td>0</td>\n",
              "      <td>1564</td>\n",
              "      <td>0</td>\n",
              "      <td>4.0</td>\n",
              "      <td>0.0</td>\n",
              "      <td>0.0</td>\n",
              "      <td>0.0</td>\n",
              "      <td>0.0</td>\n",
              "      <td>0.0</td>\n",
              "      <td>0.0</td>\n",
              "      <td>0.0</td>\n",
              "      <td>0.0</td>\n",
              "      <td>0.0</td>\n",
              "      <td>0.0</td>\n",
              "      <td>0.0</td>\n",
              "      <td>0.0</td>\n",
              "    </tr>\n",
              "    <tr>\n",
              "      <th>415420</th>\n",
              "      <td>32820000</td>\n",
              "      <td>0</td>\n",
              "      <td>2322</td>\n",
              "      <td>0</td>\n",
              "      <td>0.0</td>\n",
              "      <td>0.0</td>\n",
              "      <td>0.0</td>\n",
              "      <td>0.0</td>\n",
              "      <td>0.0</td>\n",
              "      <td>0.0</td>\n",
              "      <td>0.0</td>\n",
              "      <td>1.0</td>\n",
              "      <td>0.0</td>\n",
              "      <td>0.0</td>\n",
              "      <td>0.0</td>\n",
              "      <td>0.0</td>\n",
              "      <td>0.0</td>\n",
              "    </tr>\n",
              "    <tr>\n",
              "      <th>415421</th>\n",
              "      <td>32820000</td>\n",
              "      <td>0</td>\n",
              "      <td>3291</td>\n",
              "      <td>0</td>\n",
              "      <td>1.0</td>\n",
              "      <td>0.0</td>\n",
              "      <td>0.0</td>\n",
              "      <td>0.0</td>\n",
              "      <td>0.0</td>\n",
              "      <td>0.0</td>\n",
              "      <td>0.0</td>\n",
              "      <td>0.0</td>\n",
              "      <td>0.0</td>\n",
              "      <td>0.0</td>\n",
              "      <td>0.0</td>\n",
              "      <td>0.0</td>\n",
              "      <td>0.0</td>\n",
              "    </tr>\n",
              "    <tr>\n",
              "      <th>415422</th>\n",
              "      <td>32820000</td>\n",
              "      <td>0</td>\n",
              "      <td>6115100</td>\n",
              "      <td>0</td>\n",
              "      <td>0.0</td>\n",
              "      <td>0.0</td>\n",
              "      <td>0.0</td>\n",
              "      <td>0.0</td>\n",
              "      <td>0.0</td>\n",
              "      <td>0.0</td>\n",
              "      <td>0.0</td>\n",
              "      <td>0.0</td>\n",
              "      <td>4.0</td>\n",
              "      <td>0.0</td>\n",
              "      <td>0.0</td>\n",
              "      <td>0.0</td>\n",
              "      <td>0.0</td>\n",
              "    </tr>\n",
              "  </tbody>\n",
              "</table>\n",
              "<p>415423 rows × 17 columns</p>\n",
              "</div>"
            ],
            "text/plain": [
              "        bus_route_id  in_out  ...  11~12_takeoff  18~20_ride\n",
              "0            4270000       1  ...            0.0         0.0\n",
              "1            4270000       1  ...            0.0         5.0\n",
              "2            4270000       1  ...            0.0         2.0\n",
              "3            4270000       0  ...            0.0        53.0\n",
              "4            4270000       0  ...            0.0         0.0\n",
              "...              ...     ...  ...            ...         ...\n",
              "415418      32820000       0  ...            0.0         0.0\n",
              "415419      32820000       0  ...            0.0         0.0\n",
              "415420      32820000       0  ...            0.0         0.0\n",
              "415421      32820000       0  ...            0.0         0.0\n",
              "415422      32820000       0  ...            0.0         0.0\n",
              "\n",
              "[415423 rows x 17 columns]"
            ]
          },
          "metadata": {
            "tags": []
          },
          "execution_count": 11
        }
      ]
    },
    {
      "cell_type": "markdown",
      "metadata": {
        "id": "hKRsG-a-1gmv"
      },
      "source": [
        "## 연관관계 분석"
      ]
    },
    {
      "cell_type": "code",
      "metadata": {
        "colab": {
          "base_uri": "https://localhost:8080/",
          "height": 582
        },
        "id": "pT-fuFJ51lLK",
        "outputId": "147ef2ae-47da-4af0-b8a4-1384463833f0"
      },
      "source": [
        "# column 간의 상관관계 분석 DataFrame.corr() \r\n",
        "corr = train.corr()\r\n",
        "\r\n",
        "# 삼각형 마스크 만들기 (위 쪽 삼각형에 True, 아래 삼각형에 False)\r\n",
        "mask = np.zeros_like(corr, dtype=np.bool)\r\n",
        "mask[np.triu_indices_from(mask)] = True\r\n",
        "\r\n",
        "# Set up the matplotlib figure\r\n",
        "f, ax = plt.subplots(figsize=(11, 9))\r\n",
        "\r\n",
        "# Generate a custom diverging colormap\r\n",
        "cmap = sns.diverging_palette(220, 10, as_cmap=True)\r\n",
        "\r\n",
        "# Draw the heatmap with the mask and correct aspect ratio\r\n",
        "sns.heatmap(corr, mask=mask, cmap=cmap, center=0,\r\n",
        "            square=True, linewidths=.5, cbar_kws={\"shrink\": .5})\r\n",
        "plt.show()"
      ],
      "execution_count": 15,
      "outputs": [
        {
          "output_type": "display_data",
          "data": {
            "image/png": "[encoded data removed]",
            "text/plain": [
              "<Figure size 792x648 with 2 Axes>"
            ]
          },
          "metadata": {
            "tags": [],
            "needs_background": "light"
          }
        }
      ]
    },
    {
      "cell_type": "code",
      "metadata": {
        "colab": {
          "base_uri": "https://localhost:8080/"
        },
        "id": "2hxRp1Bp1-4W",
        "outputId": "01f33a19-4ae5-4f4c-a767-a0fcf7bd8d41"
      },
      "source": [
        "corr = train.corr().unstack().sort_values(ascending=False).drop_duplicates()\r\n",
        "corr.drop(corr.index[0],inplace=True)\r\n",
        "corr"
      ],
      "execution_count": 16,
      "outputs": [
        {
          "output_type": "execute_result",
          "data": {
            "text/plain": [
              "6~8_ride       7~8_ride         0.933272\n",
              "6~8_takeoff    7~8_takeoff      0.925347\n",
              "8~9_ride       8~10_ride        0.890609\n",
              "11~12_ride     10~12_ride       0.882002\n",
              "11~12_takeoff  10~12_takeoff    0.880691\n",
              "                                  ...   \n",
              "10~12_takeoff  bus_route_id    -0.129819\n",
              "bus_route_id   9~10_ride       -0.137973\n",
              "               18~20_ride      -0.143702\n",
              "10~12_ride     bus_route_id    -0.147186\n",
              "8~10_ride      bus_route_id    -0.152482\n",
              "Length: 253, dtype: float64"
            ]
          },
          "metadata": {
            "tags": []
          },
          "execution_count": 16
        }
      ]
    },
    {
      "cell_type": "markdown",
      "metadata": {
        "id": "fTn9KmMYx5K2"
      },
      "source": [
        "#[3] Merge Data\r\n",
        "예측해야하는 것은 18-20시로 2시간 단위의 탑승 인원인데,   \r\n",
        "각 열은 1시간 단위의 탑승 및 하차 인원이므로 2시간 단위로 합친 데이터 추가\r\n"
      ]
    },
    {
      "cell_type": "code",
      "metadata": {
        "id": "XPJtOE4Rxw_F"
      },
      "source": [
        "train_merge = train\r\n",
        "\r\n",
        "train_merge['6~8_ride'] = train['6~7_ride'] + train['7~8_ride']\r\n",
        "train_merge['8~10_ride'] = train['8~9_ride'] + train['9~10_ride']\r\n",
        "train_merge['10~12_ride'] = train['10~11_ride'] + train['11~12_ride']\r\n",
        "\r\n",
        "train_merge['6~8_takeoff'] = train['6~7_takeoff'] + train['7~8_takeoff']\r\n",
        "train_merge['8~10_takeoff'] = train['8~9_takeoff'] + train['9~10_takeoff']\r\n",
        "train_merge['10~12_takeoff'] = train['10~11_takeoff'] + train['11~12_takeoff']\r\n",
        "\r\n",
        "drop_cols=['6~7_ride','7~8_ride','8~9_ride','9~10_ride','10~11_ride','11~12_ride', '6~7_takeoff','7~8_takeoff','8~9_takeoff','9~10_takeoff','10~11_takeoff','11~12_takeoff']\r\n",
        "train_merge=train_merge.drop(drop_cols,axis=1)"
      ],
      "execution_count": 17,
      "outputs": []
    },
    {
      "cell_type": "code",
      "metadata": {
        "id": "rG-znIBi8DFK"
      },
      "source": [
        "test_merge = test\r\n",
        "\r\n",
        "test_merge['6~8_ride'] = test['6~7_ride'] + test['7~8_ride']\r\n",
        "test_merge['8~10_ride'] = test['8~9_ride'] + test['9~10_ride']\r\n",
        "test_merge['10~12_ride'] = test['10~11_ride'] + test['11~12_ride']\r\n",
        "\r\n",
        "test_merge['6~8_takeoff'] = test['6~7_takeoff'] + test['7~8_takeoff']\r\n",
        "test_merge['8~10_takeoff'] = test['8~9_takeoff'] + test['9~10_takeoff']\r\n",
        "test_merge['10~12_takeoff'] = test['10~11_takeoff'] + test['11~12_takeoff']\r\n",
        "\r\n",
        "drop_cols=['6~7_ride','7~8_ride','8~9_ride','9~10_ride','10~11_ride','11~12_ride', '6~7_takeoff','7~8_takeoff','8~9_takeoff','9~10_takeoff','10~11_takeoff','11~12_takeoff']\r\n",
        "test_merge=test_merge.drop(drop_cols,axis=1)"
      ],
      "execution_count": 18,
      "outputs": []
    },
    {
      "cell_type": "code",
      "metadata": {
        "colab": {
          "base_uri": "https://localhost:8080/",
          "height": 439
        },
        "id": "uInczk8TzR25",
        "outputId": "6bbb6589-6d91-41a8-fa7e-a8e0c29c92bb"
      },
      "source": [
        "# 18~20_ride를 마지막 column으로 순서 변경\r\n",
        "train_merge = train_merge[list(train_merge.columns[0:4])+list(train_merge.columns[5:])+['18~20_ride']]\r\n",
        "train_merge"
      ],
      "execution_count": 19,
      "outputs": [
        {
          "output_type": "execute_result",
          "data": {
            "text/html": [
              "<div>\n",
              "<style scoped>\n",
              "    .dataframe tbody tr th:only-of-type {\n",
              "        vertical-align: middle;\n",
              "    }\n",
              "\n",
              "    .dataframe tbody tr th {\n",
              "        vertical-align: top;\n",
              "    }\n",
              "\n",
              "    .dataframe thead th {\n",
              "        text-align: right;\n",
              "    }\n",
              "</style>\n",
              "<table border=\"1\" class=\"dataframe\">\n",
              "  <thead>\n",
              "    <tr style=\"text-align: right;\">\n",
              "      <th></th>\n",
              "      <th>bus_route_id</th>\n",
              "      <th>in_out</th>\n",
              "      <th>station_code</th>\n",
              "      <th>weekday</th>\n",
              "      <th>6~8_ride</th>\n",
              "      <th>8~10_ride</th>\n",
              "      <th>10~12_ride</th>\n",
              "      <th>6~8_takeoff</th>\n",
              "      <th>8~10_takeoff</th>\n",
              "      <th>10~12_takeoff</th>\n",
              "      <th>18~20_ride</th>\n",
              "    </tr>\n",
              "  </thead>\n",
              "  <tbody>\n",
              "    <tr>\n",
              "      <th>0</th>\n",
              "      <td>4270000</td>\n",
              "      <td>1</td>\n",
              "      <td>344</td>\n",
              "      <td>1</td>\n",
              "      <td>1.0</td>\n",
              "      <td>7.0</td>\n",
              "      <td>8.0</td>\n",
              "      <td>0.0</td>\n",
              "      <td>0.0</td>\n",
              "      <td>0.0</td>\n",
              "      <td>0.0</td>\n",
              "    </tr>\n",
              "    <tr>\n",
              "      <th>1</th>\n",
              "      <td>4270000</td>\n",
              "      <td>1</td>\n",
              "      <td>357</td>\n",
              "      <td>1</td>\n",
              "      <td>5.0</td>\n",
              "      <td>6.0</td>\n",
              "      <td>11.0</td>\n",
              "      <td>0.0</td>\n",
              "      <td>0.0</td>\n",
              "      <td>0.0</td>\n",
              "      <td>5.0</td>\n",
              "    </tr>\n",
              "    <tr>\n",
              "      <th>2</th>\n",
              "      <td>4270000</td>\n",
              "      <td>1</td>\n",
              "      <td>432</td>\n",
              "      <td>1</td>\n",
              "      <td>2.0</td>\n",
              "      <td>2.0</td>\n",
              "      <td>0.0</td>\n",
              "      <td>0.0</td>\n",
              "      <td>0.0</td>\n",
              "      <td>0.0</td>\n",
              "      <td>2.0</td>\n",
              "    </tr>\n",
              "    <tr>\n",
              "      <th>3</th>\n",
              "      <td>4270000</td>\n",
              "      <td>0</td>\n",
              "      <td>1579</td>\n",
              "      <td>1</td>\n",
              "      <td>17.0</td>\n",
              "      <td>32.0</td>\n",
              "      <td>30.0</td>\n",
              "      <td>0.0</td>\n",
              "      <td>0.0</td>\n",
              "      <td>0.0</td>\n",
              "      <td>53.0</td>\n",
              "    </tr>\n",
              "    <tr>\n",
              "      <th>4</th>\n",
              "      <td>4270000</td>\n",
              "      <td>0</td>\n",
              "      <td>1646</td>\n",
              "      <td>1</td>\n",
              "      <td>0.0</td>\n",
              "      <td>0.0</td>\n",
              "      <td>0.0</td>\n",
              "      <td>0.0</td>\n",
              "      <td>1.0</td>\n",
              "      <td>0.0</td>\n",
              "      <td>0.0</td>\n",
              "    </tr>\n",
              "    <tr>\n",
              "      <th>...</th>\n",
              "      <td>...</td>\n",
              "      <td>...</td>\n",
              "      <td>...</td>\n",
              "      <td>...</td>\n",
              "      <td>...</td>\n",
              "      <td>...</td>\n",
              "      <td>...</td>\n",
              "      <td>...</td>\n",
              "      <td>...</td>\n",
              "      <td>...</td>\n",
              "      <td>...</td>\n",
              "    </tr>\n",
              "    <tr>\n",
              "      <th>415418</th>\n",
              "      <td>32820000</td>\n",
              "      <td>0</td>\n",
              "      <td>1129</td>\n",
              "      <td>0</td>\n",
              "      <td>4.0</td>\n",
              "      <td>0.0</td>\n",
              "      <td>0.0</td>\n",
              "      <td>0.0</td>\n",
              "      <td>0.0</td>\n",
              "      <td>0.0</td>\n",
              "      <td>0.0</td>\n",
              "    </tr>\n",
              "    <tr>\n",
              "      <th>415419</th>\n",
              "      <td>32820000</td>\n",
              "      <td>0</td>\n",
              "      <td>1564</td>\n",
              "      <td>0</td>\n",
              "      <td>4.0</td>\n",
              "      <td>0.0</td>\n",
              "      <td>0.0</td>\n",
              "      <td>0.0</td>\n",
              "      <td>0.0</td>\n",
              "      <td>0.0</td>\n",
              "      <td>0.0</td>\n",
              "    </tr>\n",
              "    <tr>\n",
              "      <th>415420</th>\n",
              "      <td>32820000</td>\n",
              "      <td>0</td>\n",
              "      <td>2322</td>\n",
              "      <td>0</td>\n",
              "      <td>0.0</td>\n",
              "      <td>0.0</td>\n",
              "      <td>0.0</td>\n",
              "      <td>1.0</td>\n",
              "      <td>0.0</td>\n",
              "      <td>0.0</td>\n",
              "      <td>0.0</td>\n",
              "    </tr>\n",
              "    <tr>\n",
              "      <th>415421</th>\n",
              "      <td>32820000</td>\n",
              "      <td>0</td>\n",
              "      <td>3291</td>\n",
              "      <td>0</td>\n",
              "      <td>1.0</td>\n",
              "      <td>0.0</td>\n",
              "      <td>0.0</td>\n",
              "      <td>0.0</td>\n",
              "      <td>0.0</td>\n",
              "      <td>0.0</td>\n",
              "      <td>0.0</td>\n",
              "    </tr>\n",
              "    <tr>\n",
              "      <th>415422</th>\n",
              "      <td>32820000</td>\n",
              "      <td>0</td>\n",
              "      <td>6115100</td>\n",
              "      <td>0</td>\n",
              "      <td>0.0</td>\n",
              "      <td>0.0</td>\n",
              "      <td>0.0</td>\n",
              "      <td>0.0</td>\n",
              "      <td>4.0</td>\n",
              "      <td>0.0</td>\n",
              "      <td>0.0</td>\n",
              "    </tr>\n",
              "  </tbody>\n",
              "</table>\n",
              "<p>415423 rows × 11 columns</p>\n",
              "</div>"
            ],
            "text/plain": [
              "        bus_route_id  in_out  ...  10~12_takeoff  18~20_ride\n",
              "0            4270000       1  ...            0.0         0.0\n",
              "1            4270000       1  ...            0.0         5.0\n",
              "2            4270000       1  ...            0.0         2.0\n",
              "3            4270000       0  ...            0.0        53.0\n",
              "4            4270000       0  ...            0.0         0.0\n",
              "...              ...     ...  ...            ...         ...\n",
              "415418      32820000       0  ...            0.0         0.0\n",
              "415419      32820000       0  ...            0.0         0.0\n",
              "415420      32820000       0  ...            0.0         0.0\n",
              "415421      32820000       0  ...            0.0         0.0\n",
              "415422      32820000       0  ...            0.0         0.0\n",
              "\n",
              "[415423 rows x 11 columns]"
            ]
          },
          "metadata": {
            "tags": []
          },
          "execution_count": 19
        }
      ]
    },
    {
      "cell_type": "markdown",
      "metadata": {
        "id": "TDdswN0W2c0j"
      },
      "source": [
        "## 연관관계 분석\r\n",
        "2시간 단위로 합친 버전의 연관관계 분석"
      ]
    },
    {
      "cell_type": "code",
      "metadata": {
        "colab": {
          "base_uri": "https://localhost:8080/",
          "height": 601
        },
        "id": "pG2K5mVe5bG0",
        "outputId": "e0d7fd5d-29a5-4d97-a4c3-05c08848b241"
      },
      "source": [
        "# column 간의 상관관계 분석 DataFrame.corr() \r\n",
        "corr = train_merge.corr()\r\n",
        "\r\n",
        "# 삼각형 마스크 만들기 (위 쪽 삼각형에 True, 아래 삼각형에 False)\r\n",
        "mask = np.zeros_like(corr, dtype=np.bool)\r\n",
        "mask[np.triu_indices_from(mask)] = True\r\n",
        "\r\n",
        "# Set up the matplotlib figure\r\n",
        "f, ax = plt.subplots(figsize=(11, 9))\r\n",
        "\r\n",
        "# Generate a custom diverging colormap\r\n",
        "cmap = sns.diverging_palette(220, 10, as_cmap=True)\r\n",
        "\r\n",
        "# Draw the heatmap with the mask and correct aspect ratio\r\n",
        "sns.heatmap(corr, mask=mask, cmap=cmap, center=0,\r\n",
        "            square=True, linewidths=.5, cbar_kws={\"shrink\": .5})\r\n",
        "plt.show()"
      ],
      "execution_count": 20,
      "outputs": [
        {
          "output_type": "display_data",
          "data": {
            "image/png": "[encoded data removed]",
            "text/plain": [
              "<Figure size 792x648 with 2 Axes>"
            ]
          },
          "metadata": {
            "tags": [],
            "needs_background": "light"
          }
        }
      ]
    },
    {
      "cell_type": "code",
      "metadata": {
        "colab": {
          "base_uri": "https://localhost:8080/"
        },
        "id": "Pu6KeAip5bG1",
        "outputId": "802af6db-de5c-4b91-e194-f601bea626b0"
      },
      "source": [
        "corr = train_merge.corr().unstack().sort_values(ascending=False).drop_duplicates()\r\n",
        "corr.drop(corr.index[0],inplace=True)\r\n",
        "print(corr.head())\r\n",
        "print(corr.tail())"
      ],
      "execution_count": 21,
      "outputs": [
        {
          "output_type": "stream",
          "text": [
            "8~10_takeoff  10~12_takeoff    0.640996\n",
            "8~10_ride     10~12_ride       0.640145\n",
            "18~20_ride    10~12_ride       0.616721\n",
            "8~10_ride     6~8_ride         0.548672\n",
            "              18~20_ride       0.538263\n",
            "dtype: float64\n",
            "8~10_takeoff   bus_route_id   -0.126992\n",
            "10~12_takeoff  bus_route_id   -0.129819\n",
            "18~20_ride     bus_route_id   -0.143702\n",
            "bus_route_id   10~12_ride     -0.147186\n",
            "               8~10_ride      -0.152482\n",
            "dtype: float64\n"
          ],
          "name": "stdout"
        }
      ]
    },
    {
      "cell_type": "code",
      "metadata": {
        "colab": {
          "base_uri": "https://localhost:8080/"
        },
        "id": "jL213qRX8nXi",
        "outputId": "2ed7d646-1d21-4084-dc9c-5d4977a104ae"
      },
      "source": [
        "print(train.shape)\r\n",
        "print(test.shape)\r\n",
        "print(train_merge.shape)\r\n",
        "print(test_merge.shape)"
      ],
      "execution_count": 22,
      "outputs": [
        {
          "output_type": "stream",
          "text": [
            "(415423, 23)\n",
            "(228170, 22)\n",
            "(415423, 11)\n",
            "(228170, 10)\n"
          ],
          "name": "stdout"
        }
      ]
    },
    {
      "cell_type": "code",
      "metadata": {
        "id": "rdUKWF1B8ta-"
      },
      "source": [
        "x_train = train.iloc[:,:-1]\r\n",
        "y_train = train.iloc[:,-1]\r\n",
        "\r\n",
        "x_train_merge = train_merge.iloc[:,:-1]\r\n",
        "y_train_merge = train_merge.iloc[:,-1]"
      ],
      "execution_count": 23,
      "outputs": []
    },
    {
      "cell_type": "code",
      "metadata": {
        "colab": {
          "base_uri": "https://localhost:8080/"
        },
        "id": "u7ZNMqWG9CG0",
        "outputId": "f7809fdc-5af2-49ef-af8a-b2e0f9d211fa"
      },
      "source": [
        "print(x_train.shape)\r\n",
        "print(y_train.shape)\r\n",
        "print(test.shape)\r\n",
        "print(x_train_merge.shape)\r\n",
        "print(y_train_merge.shape)\r\n",
        "print(test_merge.shape)"
      ],
      "execution_count": 24,
      "outputs": [
        {
          "output_type": "stream",
          "text": [
            "(415423, 22)\n",
            "(415423,)\n",
            "(228170, 22)\n",
            "(415423, 10)\n",
            "(415423,)\n",
            "(228170, 10)\n"
          ],
          "name": "stdout"
        }
      ]
    },
    {
      "cell_type": "code",
      "metadata": {
        "id": "eQa3aFjX7JVk"
      },
      "source": [
        "from sklearn.preprocessing import MinMaxScaler\r\n",
        "scaler = MinMaxScaler()\r\n",
        "\r\n",
        "train_std = scaler.fit_transform(x_train)\r\n",
        "test_std = scaler.transform(test)\r\n",
        "\r\n",
        "train_merge_std = scaler.fit_transform(x_train_merge)\r\n",
        "test_merge_std = scaler.transform(test_merge)"
      ],
      "execution_count": 25,
      "outputs": []
    },
    {
      "cell_type": "markdown",
      "metadata": {
        "id": "4O4s1lgoBhgg"
      },
      "source": [
        "#[4] Train\r\n",
        "original 버전과 merge 버전 각각 나눠서 학습 및 평가"
      ]
    },
    {
      "cell_type": "markdown",
      "metadata": {
        "id": "aLkcuPlbDNxn"
      },
      "source": [
        "## 1) Original"
      ]
    },
    {
      "cell_type": "markdown",
      "metadata": {
        "id": "wK6fP6hKBmvd"
      },
      "source": [
        "### (1) xgboost - org.ver."
      ]
    },
    {
      "cell_type": "code",
      "metadata": {
        "id": "1NsMPHYT8ZMl"
      },
      "source": [
        "from sklearn.model_selection import train_test_split\r\n",
        "\r\n",
        "target = '18~20_ride'\r\n",
        "cols_to_drop = [target]\r\n",
        "cols_to_fit = [col for col in train.columns if col not in cols_to_drop]\r\n",
        "train_split, val_split = train_test_split(train, test_size=0.3)"
      ],
      "execution_count": 38,
      "outputs": []
    },
    {
      "cell_type": "code",
      "metadata": {
        "colab": {
          "base_uri": "https://localhost:8080/",
          "height": 857
        },
        "id": "yiWxgZXLBMAD",
        "outputId": "29925284-260c-4203-fc1d-7b19ee6afe82"
      },
      "source": [
        "from xgboost import XGBRegressor\r\n",
        "from sklearn.model_selection import KFold, GridSearchCV\r\n",
        "\r\n",
        "params = {\r\n",
        "    'n_estimators': 200,\r\n",
        "    'learning_rate': 0.01, \r\n",
        "    'num_leaves': 10,\r\n",
        "    'verbose': -1,\r\n",
        "}\r\n",
        "\r\n",
        "\r\n",
        "xgb_model = XGBRegressor(**params)\r\n",
        "xgb_model.fit(\r\n",
        "    train_split[cols_to_fit], train_split[target],\r\n",
        "    eval_set=[(val_split[cols_to_fit], val_split[target])],\r\n",
        "    verbose=10,\r\n",
        ")\r\n",
        "\r\n",
        "\r\n",
        "feature_importance = pd.DataFrame(sorted(zip(xgb_model.feature_importances_, cols_to_fit)), columns=['Value','Feature'])\r\n",
        "\r\n",
        "plt.figure(figsize=(10, 6))\r\n",
        "sns.barplot(x=\"Value\", y=\"Feature\", data=feature_importance.sort_values(by=\"Value\", ascending=False))\r\n",
        "plt.title('XGBoost Features (avg over folds)')\r\n",
        "plt.tight_layout()\r\n",
        "plt.show()"
      ],
      "execution_count": 39,
      "outputs": [
        {
          "output_type": "stream",
          "text": [
            "[09:54:57] WARNING: /workspace/src/objective/regression_obj.cu:152: reg:linear is now deprecated in favor of reg:squarederror.\n",
            "[0]\tvalidation_0-rmse:4.80761\n",
            "[10]\tvalidation_0-rmse:4.63507\n",
            "[20]\tvalidation_0-rmse:4.48595\n",
            "[30]\tvalidation_0-rmse:4.35664\n",
            "[40]\tvalidation_0-rmse:4.24596\n",
            "[50]\tvalidation_0-rmse:4.14894\n",
            "[60]\tvalidation_0-rmse:4.06577\n",
            "[70]\tvalidation_0-rmse:3.99246\n",
            "[80]\tvalidation_0-rmse:3.92817\n",
            "[90]\tvalidation_0-rmse:3.87351\n",
            "[100]\tvalidation_0-rmse:3.82646\n",
            "[110]\tvalidation_0-rmse:3.78333\n",
            "[120]\tvalidation_0-rmse:3.74695\n",
            "[130]\tvalidation_0-rmse:3.71312\n",
            "[140]\tvalidation_0-rmse:3.68327\n",
            "[150]\tvalidation_0-rmse:3.65694\n",
            "[160]\tvalidation_0-rmse:3.63383\n",
            "[170]\tvalidation_0-rmse:3.61215\n",
            "[180]\tvalidation_0-rmse:3.59259\n",
            "[190]\tvalidation_0-rmse:3.57566\n",
            "[199]\tvalidation_0-rmse:3.5618\n"
          ],
          "name": "stdout"
        },
        {
          "output_type": "display_data",
          "data": {
            "image/png": "[encoded data removed]",
            "text/plain": [
              "<Figure size 720x432 with 1 Axes>"
            ]
          },
          "metadata": {
            "tags": [],
            "needs_background": "light"
          }
        }
      ]
    },
    {
      "cell_type": "markdown",
      "metadata": {
        "id": "tDip_MDcByGz"
      },
      "source": [
        "### (2) lightGBM - org.ver."
      ]
    },
    {
      "cell_type": "code",
      "metadata": {
        "colab": {
          "base_uri": "https://localhost:8080/",
          "height": 801
        },
        "id": "Tfa5ru9ZAymm",
        "outputId": "c561403a-d3dc-4f47-8b9d-27911356ea35"
      },
      "source": [
        "from lightgbm import LGBMRegressor\r\n",
        "params = {\r\n",
        "    'n_estimators': 200,\r\n",
        "    'learning_rate': 0.01, \r\n",
        "    'num_leaves': 10,\r\n",
        "    'objective': 'regression_l2', \r\n",
        "    'metric': ['mae', 'mse'],\r\n",
        "    'verbose': -1,\r\n",
        "}\r\n",
        "\r\n",
        "lgbm_model = LGBMRegressor(**params)\r\n",
        "lgbm_model.fit(\r\n",
        "    train_split[cols_to_fit], train_split[target],\r\n",
        "    eval_set=[(val_split[cols_to_fit], val_split[target])],\r\n",
        "    eval_metric=['mae', 'mse'],\r\n",
        "    verbose=10,\r\n",
        ")\r\n",
        "\r\n",
        "feature_importance = pd.DataFrame(sorted(zip(lgbm_model.feature_importances_, cols_to_fit)), columns=['Value','Feature'])\r\n",
        "\r\n",
        "plt.figure(figsize=(10, 6))\r\n",
        "sns.barplot(x=\"Value\", y=\"Feature\", data=feature_importance.sort_values(by=\"Value\", ascending=False))\r\n",
        "plt.title('LightGBM Features')\r\n",
        "plt.tight_layout()\r\n",
        "plt.show()"
      ],
      "execution_count": 40,
      "outputs": [
        {
          "output_type": "stream",
          "text": [
            "[10]\tvalid_0's l2: 21.1074\tvalid_0's l1: 1.75573\n",
            "[20]\tvalid_0's l2: 19.7312\tvalid_0's l1: 1.6916\n",
            "[30]\tvalid_0's l2: 18.5906\tvalid_0's l1: 1.63637\n",
            "[40]\tvalid_0's l2: 17.6296\tvalid_0's l1: 1.5901\n",
            "[50]\tvalid_0's l2: 16.8221\tvalid_0's l1: 1.55274\n",
            "[60]\tvalid_0's l2: 16.1393\tvalid_0's l1: 1.51867\n",
            "[70]\tvalid_0's l2: 15.5602\tvalid_0's l1: 1.49071\n",
            "[80]\tvalid_0's l2: 15.026\tvalid_0's l1: 1.46557\n",
            "[90]\tvalid_0's l2: 14.543\tvalid_0's l1: 1.44223\n",
            "[100]\tvalid_0's l2: 14.1373\tvalid_0's l1: 1.42033\n",
            "[110]\tvalid_0's l2: 13.7642\tvalid_0's l1: 1.40062\n",
            "[120]\tvalid_0's l2: 13.4446\tvalid_0's l1: 1.38376\n",
            "[130]\tvalid_0's l2: 13.1381\tvalid_0's l1: 1.36807\n",
            "[140]\tvalid_0's l2: 12.8924\tvalid_0's l1: 1.35429\n",
            "[150]\tvalid_0's l2: 12.6731\tvalid_0's l1: 1.34033\n",
            "[160]\tvalid_0's l2: 12.4753\tvalid_0's l1: 1.32807\n",
            "[170]\tvalid_0's l2: 12.304\tvalid_0's l1: 1.31637\n",
            "[180]\tvalid_0's l2: 12.1618\tvalid_0's l1: 1.30594\n",
            "[190]\tvalid_0's l2: 12.0355\tvalid_0's l1: 1.29642\n",
            "[200]\tvalid_0's l2: 11.9145\tvalid_0's l1: 1.28745\n"
          ],
          "name": "stdout"
        },
        {
          "output_type": "display_data",
          "data": {
            "image/png": "[encoded data removed]",
            "text/plain": [
              "<Figure size 720x432 with 1 Axes>"
            ]
          },
          "metadata": {
            "tags": [],
            "needs_background": "light"
          }
        }
      ]
    },
    {
      "cell_type": "code",
      "metadata": {
        "id": "H2_0XyTABU7y"
      },
      "source": [
        "xgb_pred=xgb_model.predict(test)\r\n",
        "lgb_pred=lgbm_model.predict(test)"
      ],
      "execution_count": 41,
      "outputs": []
    },
    {
      "cell_type": "markdown",
      "metadata": {
        "id": "im9CG6anDamj"
      },
      "source": [
        "## 2) Merge"
      ]
    },
    {
      "cell_type": "markdown",
      "metadata": {
        "id": "JVepGxMt20pK"
      },
      "source": [
        "### (1) xgboost - merge ver."
      ]
    },
    {
      "cell_type": "code",
      "metadata": {
        "id": "kCRFb2ZdDmG5"
      },
      "source": [
        "target = '18~20_ride'\r\n",
        "cols_to_drop = [target]\r\n",
        "cols_to_fit = [col for col in train_merge.columns if col not in cols_to_drop]\r\n",
        "train_split, val_split = train_test_split(train_merge, test_size=0.3)"
      ],
      "execution_count": 42,
      "outputs": []
    },
    {
      "cell_type": "code",
      "metadata": {
        "colab": {
          "base_uri": "https://localhost:8080/",
          "height": 857
        },
        "id": "QsNd-hVZDhu9",
        "outputId": "613925d3-0650-4a90-be16-27fdabd8b76b"
      },
      "source": [
        "from xgboost import XGBRegressor\r\n",
        "params = {\r\n",
        "    'n_estimators': 200,\r\n",
        "    'learning_rate': 0.01, \r\n",
        "    'num_leaves': 10,\r\n",
        "    'verbose': -1,\r\n",
        "}\r\n",
        "\r\n",
        "xgb_model = XGBRegressor(**params)\r\n",
        "xgb_model.fit(\r\n",
        "    train_split[cols_to_fit], train_split[target],\r\n",
        "    eval_set=[(val_split[cols_to_fit], val_split[target])],\r\n",
        "    verbose=10,\r\n",
        ")\r\n",
        "\r\n",
        "feature_importance = pd.DataFrame(sorted(zip(xgb_model.feature_importances_, cols_to_fit)), columns=['Value','Feature'])\r\n",
        "\r\n",
        "plt.figure(figsize=(10, 6))\r\n",
        "sns.barplot(x=\"Value\", y=\"Feature\", data=feature_importance.sort_values(by=\"Value\", ascending=False))\r\n",
        "plt.title('XGBoost Features (avg over folds)')\r\n",
        "plt.tight_layout()\r\n",
        "plt.show()"
      ],
      "execution_count": 43,
      "outputs": [
        {
          "output_type": "stream",
          "text": [
            "[09:55:55] WARNING: /workspace/src/objective/regression_obj.cu:152: reg:linear is now deprecated in favor of reg:squarederror.\n",
            "[0]\tvalidation_0-rmse:4.69289\n",
            "[10]\tvalidation_0-rmse:4.51487\n",
            "[20]\tvalidation_0-rmse:4.36181\n",
            "[30]\tvalidation_0-rmse:4.22986\n",
            "[40]\tvalidation_0-rmse:4.11646\n",
            "[50]\tvalidation_0-rmse:4.02013\n",
            "[60]\tvalidation_0-rmse:3.93646\n",
            "[70]\tvalidation_0-rmse:3.86375\n",
            "[80]\tvalidation_0-rmse:3.80179\n",
            "[90]\tvalidation_0-rmse:3.74715\n",
            "[100]\tvalidation_0-rmse:3.69877\n",
            "[110]\tvalidation_0-rmse:3.65835\n",
            "[120]\tvalidation_0-rmse:3.62341\n",
            "[130]\tvalidation_0-rmse:3.5918\n",
            "[140]\tvalidation_0-rmse:3.5638\n",
            "[150]\tvalidation_0-rmse:3.53917\n",
            "[160]\tvalidation_0-rmse:3.51831\n",
            "[170]\tvalidation_0-rmse:3.50004\n",
            "[180]\tvalidation_0-rmse:3.48338\n",
            "[190]\tvalidation_0-rmse:3.46666\n",
            "[199]\tvalidation_0-rmse:3.45485\n"
          ],
          "name": "stdout"
        },
        {
          "output_type": "display_data",
          "data": {
            "image/png": "[encoded data removed]",
            "text/plain": [
              "<Figure size 720x432 with 1 Axes>"
            ]
          },
          "metadata": {
            "tags": [],
            "needs_background": "light"
          }
        }
      ]
    },
    {
      "cell_type": "markdown",
      "metadata": {
        "id": "rXAXmH_cDhu-"
      },
      "source": [
        "### (2) lightGBM - merge ver."
      ]
    },
    {
      "cell_type": "code",
      "metadata": {
        "colab": {
          "base_uri": "https://localhost:8080/",
          "height": 801
        },
        "id": "ZPUpFwhLDhu-",
        "outputId": "6f926a64-c3cf-4a37-8170-ee910476763d"
      },
      "source": [
        "from lightgbm import LGBMRegressor\r\n",
        "params = {\r\n",
        "    'n_estimators': 200,\r\n",
        "    'learning_rate': 0.01, \r\n",
        "    'num_leaves': 10,\r\n",
        "    'objective': 'regression_l2', \r\n",
        "    'metric': ['mae', 'mse'],\r\n",
        "    'verbose': -1,\r\n",
        "}\r\n",
        "\r\n",
        "lgbm_model = LGBMRegressor(**params)\r\n",
        "lgbm_model.fit(\r\n",
        "    train_split[cols_to_fit], train_split[target],\r\n",
        "    eval_set=[(val_split[cols_to_fit], val_split[target])],\r\n",
        "    eval_metric=['mae', 'mse'],\r\n",
        "    verbose=10,\r\n",
        ")\r\n",
        "\r\n",
        "feature_importance = pd.DataFrame(sorted(zip(lgbm_model.feature_importances_, cols_to_fit)), columns=['Value','Feature'])\r\n",
        "\r\n",
        "plt.figure(figsize=(10, 6))\r\n",
        "sns.barplot(x=\"Value\", y=\"Feature\", data=feature_importance.sort_values(by=\"Value\", ascending=False))\r\n",
        "plt.title('LightGBM Features')\r\n",
        "plt.tight_layout()\r\n",
        "plt.show()"
      ],
      "execution_count": 44,
      "outputs": [
        {
          "output_type": "stream",
          "text": [
            "[10]\tvalid_0's l2: 20.0161\tvalid_0's l1: 1.75045\n",
            "[20]\tvalid_0's l2: 18.6679\tvalid_0's l1: 1.6864\n",
            "[30]\tvalid_0's l2: 17.555\tvalid_0's l1: 1.63088\n",
            "[40]\tvalid_0's l2: 16.6186\tvalid_0's l1: 1.58341\n",
            "[50]\tvalid_0's l2: 15.8257\tvalid_0's l1: 1.5464\n",
            "[60]\tvalid_0's l2: 15.1634\tvalid_0's l1: 1.51372\n",
            "[70]\tvalid_0's l2: 14.5829\tvalid_0's l1: 1.4845\n",
            "[80]\tvalid_0's l2: 14.1056\tvalid_0's l1: 1.45805\n",
            "[90]\tvalid_0's l2: 13.696\tvalid_0's l1: 1.43421\n",
            "[100]\tvalid_0's l2: 13.3439\tvalid_0's l1: 1.41286\n",
            "[110]\tvalid_0's l2: 13.021\tvalid_0's l1: 1.39436\n",
            "[120]\tvalid_0's l2: 12.7372\tvalid_0's l1: 1.37798\n",
            "[130]\tvalid_0's l2: 12.4938\tvalid_0's l1: 1.3618\n",
            "[140]\tvalid_0's l2: 12.2796\tvalid_0's l1: 1.34638\n",
            "[150]\tvalid_0's l2: 12.0788\tvalid_0's l1: 1.33377\n",
            "[160]\tvalid_0's l2: 11.9055\tvalid_0's l1: 1.32196\n",
            "[170]\tvalid_0's l2: 11.7315\tvalid_0's l1: 1.31126\n",
            "[180]\tvalid_0's l2: 11.583\tvalid_0's l1: 1.30154\n",
            "[190]\tvalid_0's l2: 11.4425\tvalid_0's l1: 1.29257\n",
            "[200]\tvalid_0's l2: 11.3178\tvalid_0's l1: 1.28379\n"
          ],
          "name": "stdout"
        },
        {
          "output_type": "display_data",
          "data": {
            "image/png": "[encoded data removed]",
            "text/plain": [
              "<Figure size 720x432 with 1 Axes>"
            ]
          },
          "metadata": {
            "tags": [],
            "needs_background": "light"
          }
        }
      ]
    },
    {
      "cell_type": "code",
      "metadata": {
        "id": "3ffd2KAPDzIS"
      },
      "source": [
        "xgb_merge_pred=xgb_model.predict(test_merge)\r\n",
        "lgb_merge_pred=lgbm_model.predict(test_merge)"
      ],
      "execution_count": 45,
      "outputs": []
    },
    {
      "cell_type": "markdown",
      "metadata": {
        "id": "VWzWzKpK36lK"
      },
      "source": [
        "org. ver. & merge ver. 모두 10-12시 탑승 인원이 가장 중요한 feature임을 확인"
      ]
    },
    {
      "cell_type": "markdown",
      "metadata": {
        "id": "s-D3obBH2-SE"
      },
      "source": [
        "# [5] Evaluation"
      ]
    },
    {
      "cell_type": "code",
      "metadata": {
        "id": "7y2vIs5OD4sb"
      },
      "source": [
        "submit = pd.read_csv('submission_sample.csv')\r\n",
        "submit_merge = pd.read_csv('submission_sample.csv')"
      ],
      "execution_count": 50,
      "outputs": []
    },
    {
      "cell_type": "code",
      "metadata": {
        "id": "A18ImjKz4FyN"
      },
      "source": [
        "submit['18~20_ride'] = xgb_pred*0.5 + lgb_pred*0.5\r\n",
        "submit['18~20_ride'] = submit['18~20_ride'].astype(np.int32)\r\n",
        "submit_merge['18~20_ride'] = xgb_merge_pred*0.5 + lgb_merge_pred*0.5\r\n",
        "submit_merge['18~20_ride'] = submit_merge['18~20_ride'].astype(np.int32)"
      ],
      "execution_count": 62,
      "outputs": []
    },
    {
      "cell_type": "code",
      "metadata": {
        "id": "JkyefF-q4TdR"
      },
      "source": [
        "submit.to_csv('submission.csv', index = False)\r\n",
        "submit_merge.to_csv('submission_merge.csv', index = False)"
      ],
      "execution_count": 64,
      "outputs": []
    },
    {
      "cell_type": "markdown",
      "metadata": {
        "id": "nYAPVXMP6E6P"
      },
      "source": [
        "* org ver. [3.18]\r\n",
        "* merge ver. [3.16]\r\n",
        "\r\n",
        "2시간 단위로 결합한 것이 더 좋은 성능을 보임\r\n"
      ]
    }
  ]
}